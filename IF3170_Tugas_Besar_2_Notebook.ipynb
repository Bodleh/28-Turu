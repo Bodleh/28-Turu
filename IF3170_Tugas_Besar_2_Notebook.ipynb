{
 "cells": [
  {
   "cell_type": "markdown",
   "metadata": {
    "colab_type": "text",
    "id": "view-in-github"
   },
   "source": [
    "<a href=\"https://colab.research.google.com/github/Bodleh/28-Turu/blob/main/IF3170_Artificial_Intelligence_%7C_Tugas_Besar_2_Notebook_Template.ipynb\" target=\"_parent\"><img src=\"https://colab.research.google.com/assets/colab-badge.svg\" alt=\"Open In Colab\"/></a>"
   ]
  },
  {
   "cell_type": "markdown",
   "metadata": {
    "id": "uR1JW69eLfG_"
   },
   "source": [
    "# IF3170 Artificial Intelligence | Tugas Besar 2\n",
    "\n",
    "This notebook serves as a template for the assignment. Please create a copy of this notebook to complete your work. You can add more code blocks, markdown blocks, or new sections if needed.\n"
   ]
  },
  {
   "cell_type": "markdown",
   "metadata": {
    "id": "ucbaI5rBLtjJ"
   },
   "source": [
    "Group Number: 282\n",
    "\n",
    "Group Members:\n",
    "- Enrique Yanuar (13522077)\n",
    "- Ivan Hendrawan Tan (13522111)\n",
    "- Derwin Rustanly (13522115)\n",
    "- Mesach Harmasendro (13522117)"
   ]
  },
  {
   "cell_type": "markdown",
   "metadata": {
    "id": "GwzsfETHLfHA"
   },
   "source": [
    "## Import Libraries"
   ]
  },
  {
   "cell_type": "code",
   "execution_count": 4,
   "metadata": {
    "id": "jZJU5W_4LfHB"
   },
   "outputs": [],
   "source": [
    "import pandas as pd\n",
    "import numpy as np\n",
    "import matplotlib.pyplot as plt\n",
    "import seaborn as sns\n",
    "from sklearn.model_selection import train_test_split\n",
    "from sklearn.impute import SimpleImputer\n",
    "from sklearn.base import BaseEstimator, TransformerMixin\n",
    "from sklearn.preprocessing import StandardScaler, OneHotEncoder, LabelEncoder, MinMaxScaler\n",
    "from sklearn.decomposition import PCA\n",
    "from sklearn.feature_selection import SelectKBest\n",
    "from sklearn.pipeline import Pipeline\n",
    "from sklearn.compose import ColumnTransformer\n",
    "from sklearn.preprocessing import StandardScaler\n",
    "from sklearn.impute import SimpleImputer\n",
    "from sklearn.feature_selection import SelectKBest, chi2\n",
    "from sklearn.decomposition import PCA\n",
    "# Import other libraries if needed"
   ]
  },
  {
   "cell_type": "markdown",
   "metadata": {
    "id": "OKbjLIdYLfHC"
   },
   "source": [
    "## Import Dataset"
   ]
  },
  {
   "cell_type": "code",
   "execution_count": 5,
   "metadata": {
    "id": "-IWFJ-gdLfHD"
   },
   "outputs": [
    {
     "data": {
      "text/plain": [
       "(  proto  id   swin   dwin         stcpb        dtcpb  smean   dmean  \\\n",
       " 0   tcp   0  255.0  255.0  4.864839e+08  492604340.0   58.0     NaN   \n",
       " 1   udp   1    0.0    0.0  0.000000e+00          0.0   57.0     0.0   \n",
       " 2   tcp   2  255.0  255.0  3.835852e+09  201002858.0  170.0   114.0   \n",
       " 3   tcp   3  255.0  255.0           NaN  661443578.0   56.0  1276.0   \n",
       " 4   udp   4    0.0    0.0  0.000000e+00          0.0   65.0    81.0   \n",
       " \n",
       "    trans_depth  response_body_len  ...  ct_ftp_cmd  ct_srv_src  ct_srv_dst  \\\n",
       " 0          0.0                0.0  ...         0.0        11.0         NaN   \n",
       " 1          0.0                0.0  ...         0.0        10.0        10.0   \n",
       " 2          0.0                0.0  ...         0.0         4.0         4.0   \n",
       " 3          0.0                0.0  ...         0.0         9.0         9.0   \n",
       " 4          0.0                0.0  ...         0.0         3.0         3.0   \n",
       " \n",
       "    ct_dst_ltm  ct_src_ltm  ct_src_dport_ltm  ct_dst_sport_ltm ct_dst_src_ltm  \\\n",
       " 0         5.0         4.0               2.0               1.0            5.0   \n",
       " 1        10.0        10.0               NaN              10.0           10.0   \n",
       " 2         2.0         2.0               1.0               1.0            4.0   \n",
       " 3         3.0         2.0               2.0               1.0            6.0   \n",
       " 4         4.0         3.0               1.0               NaN            1.0   \n",
       " \n",
       "    attack_cat  label  \n",
       " 0      Normal      0  \n",
       " 1     Generic      1  \n",
       " 2    Exploits      1  \n",
       " 3      Normal      0  \n",
       " 4      Normal      0  \n",
       " \n",
       " [5 rows x 44 columns],\n",
       " (175341, 44))"
      ]
     },
     "execution_count": 5,
     "metadata": {},
     "output_type": "execute_result"
    }
   ],
   "source": [
    "# Example of reading a csv file from a gdrive link\n",
    "\n",
    "# Take the file id from the gdrive file url\n",
    "# https://drive.google.com/file/d/1ZUtiaty9RPXhpz5F2Sy3dFPHF4YIt5iU/view?usp=sharing => The file id is 1ZUtiaty9RPXhpz5F2Sy3dFPHF4YIt5iU\n",
    "# and then put it in this format:\n",
    "# https://drive.google.com/uc?id={file_id}\n",
    "# Don't forget to change the access to public\n",
    "\n",
    "df_flow_features = pd.read_csv('https://drive.google.com/uc?id=1c65Nrgu98VNTpL3WACum73bgtkernLcg')\n",
    "df_content_features = pd.read_csv('https://drive.google.com/uc?id=1nk2PS1cYtwPHsRQkqf_713ToA-Y07_iU')\n",
    "df_time_features = pd.read_csv('https://drive.google.com/uc?id=1YlBaGOtSBcfGpKFrsVoE2NrJ2cVv_flH')\n",
    "df_basic_features = pd.read_csv('https://drive.google.com/uc?id=1dkKy35p6pDfcJWVeK71SMdl8vbl8CLCD')\n",
    "df_additional_features = pd.read_csv('https://drive.google.com/uc?id=1Us3tid6q7eoxfyLt5pf7HT46emXwozqN')\n",
    "df_labels_features = pd.read_csv('https://drive.google.com/uc?id=1JzefsXabOdN-_OK2fAlEigSsYNZXaGCZ')\n",
    "\n",
    "dataframes = [df_content_features, df_time_features, df_basic_features, df_additional_features, df_labels_features]\n",
    "mergedDf = df_flow_features.copy()\n",
    "for df in dataframes:\n",
    "    mergedDf = pd.merge(mergedDf, df, on='id', how='inner')\n",
    "\n",
    "mergedDf.head(), mergedDf.shape"
   ]
  },
  {
   "cell_type": "markdown",
   "metadata": {
    "id": "YdSor5sdIYGs"
   },
   "source": [
    "# Exploratory Data Analysis (Optional)\n",
    "\n",
    "Exploratory Data Analysis (EDA) is a crucial step in the data analysis process that involves examining and visualizing data sets to uncover patterns, trends, anomalies, and insights. It is the first step before applying more advanced statistical and machine learning techniques. EDA helps you to gain a deep understanding of the data you are working with, allowing you to make informed decisions and formulate hypotheses for further analysis."
   ]
  },
  {
   "cell_type": "code",
   "execution_count": null,
   "metadata": {
    "id": "bGiGPVYNIoWk"
   },
   "outputs": [],
   "source": [
    "# Write your code here\n",
    "instances, features = mergedDf.shape\n",
    "\n",
    "print(instances, features)\n",
    "\n",
    "#  Check basic info about the DataFrame\n",
    "print(\"Basic Info about the DataFrame:\")\n",
    "print(mergedDf.info())\n",
    "\n",
    "#  Display the first few rows of the data\n",
    "print(\"\\nFirst few rows of the DataFrame:\")\n",
    "print(mergedDf.head())\n",
    "\n",
    "#  Summary statistics for numerical columns\n",
    "print(\"\\nSummary Statistics (Numerical Columns):\")\n",
    "print(mergedDf.describe())\n",
    "\n",
    "#  Check for missing values\n",
    "print(\"\\nMissing Values in DataFrame:\")\n",
    "missing_percentage = (mergedDf.isnull().sum() / len(mergedDf)) * 100\n",
    "print(missing_percentage)\n",
    "\n",
    "#  Check data types of columns\n",
    "print(\"\\nData Types of Columns:\")\n",
    "print(mergedDf.dtypes)\n",
    "\n",
    "\n",
    "#  Check the distribution of the target variable \n",
    "print(\"\\nDistribution of Target Variable:\")\n",
    "plt.figure(figsize=(12, 6))\n",
    "sns.countplot(x='attack_cat', data=mergedDf)\n",
    "plt.title('Target Variable Distribution', fontsize=10)  \n",
    "plt.xlabel('Attack Category', fontsize=10)\n",
    "plt.ylabel('Count', fontsize=10)\n",
    "plt.xticks(fontsize=8)\n",
    "plt.yticks(fontsize=8)\n",
    "plt.show()\n",
    "\n",
    "#  Plot histograms for numerical features\n",
    "print(\"\\nHistograms of Numerical Features:\")\n",
    "numerical_features = mergedDf.select_dtypes(include=['float64', 'int64']).columns\n",
    "\n",
    "for feature in numerical_features:\n",
    "    plt.figure(figsize=(10, 6))  \n",
    "    mergedDf[feature].hist(bins=30, edgecolor='black')\n",
    "    plt.title(f'Histogram of {feature}', fontsize=10)  \n",
    "    plt.xlabel(feature, fontsize=10)\n",
    "    plt.ylabel('Frequency', fontsize=10)\n",
    "    plt.xticks(fontsize=8)\n",
    "    plt.yticks(fontsize=8)\n",
    "    plt.tight_layout()\n",
    "    plt.show()\n"
   ]
  },
  {
   "cell_type": "code",
   "execution_count": 7,
   "metadata": {},
   "outputs": [
    {
     "name": "stdout",
     "output_type": "stream",
     "text": [
      "\n",
      "Correlation Matrix of Numerical Features:\n"
     ]
    },
    {
     "data": {
      "image/png": "[encoded data removed]",
      "text/plain": [
       "<Figure size 1000x800 with 2 Axes>"
      ]
     },
     "metadata": {},
     "output_type": "display_data"
    },
    {
     "name": "stdout",
     "output_type": "stream",
     "text": [
      "\n",
      "Duplicate Rows in DataFrame:\n",
      "Empty DataFrame\n",
      "Columns: [proto, id, swin, dwin, stcpb, dtcpb, smean, dmean, trans_depth, response_body_len, sjit, djit, sinpkt, dinpkt, tcprtt, synack, ackdat, state, dur, sbytes, dbytes, sttl, dttl, sloss, dloss, service, sload, dload, spkts, dpkts, is_sm_ips_ports, ct_state_ttl, ct_flw_http_mthd, is_ftp_login, ct_ftp_cmd, ct_srv_src, ct_srv_dst, ct_dst_ltm, ct_src_ltm, ct_src_dport_ltm, ct_dst_sport_ltm, ct_dst_src_ltm, attack_cat, label]\n",
      "Index: []\n",
      "\n",
      "[0 rows x 44 columns]\n",
      "\n",
      "Boxplot for Numerical Features:\n"
     ]
    },
    {
     "data": {
      "image/png": "[encoded data removed]",
      "text/plain": [
       "<Figure size 1200x800 with 1 Axes>"
      ]
     },
     "metadata": {},
     "output_type": "display_data"
    }
   ],
   "source": [
    "# Correlation Matrix for Numerical Features (Only numerical columns)\n",
    "print(\"\\nCorrelation Matrix of Numerical Features:\")\n",
    "numerical_features = mergedDf.select_dtypes(include=['float64', 'int64'])  \n",
    "correlation_matrix = numerical_features.corr()  \n",
    "plt.figure(figsize=(10, 8))\n",
    "sns.heatmap(correlation_matrix, cmap='coolwarm', cbar=True)\n",
    "plt.title(\"Correlation Matrix\")\n",
    "plt.show()\n",
    "\n",
    "#  Check for duplicate rows\n",
    "print(\"\\nDuplicate Rows in DataFrame:\")\n",
    "print(mergedDf[mergedDf.duplicated()])\n",
    "\n",
    "#  Boxplot to check for outliers in numerical features\n",
    "print(\"\\nBoxplot for Numerical Features:\")\n",
    "plt.figure(figsize=(12, 8))\n",
    "sns.boxplot(data=mergedDf.select_dtypes(include=['float64', 'int64']))  \n",
    "plt.xticks(rotation=90)\n",
    "plt.title('Boxplot of Numerical Features')\n",
    "plt.tight_layout()\n",
    "plt.show()"
   ]
  },
  {
   "cell_type": "code",
   "execution_count": 8,
   "metadata": {},
   "outputs": [
    {
     "name": "stdout",
     "output_type": "stream",
     "text": [
      "proto         133\n",
      "state           9\n",
      "service        13\n",
      "attack_cat     10\n",
      "Name: Unique Value Counts, dtype: int64\n"
     ]
    }
   ],
   "source": [
    "# Identify categorical columns\n",
    "categorical_columns = mergedDf.select_dtypes(include=['object']).columns\n",
    "\n",
    "# Print the count of unique values for each categorical column\n",
    "value_counts = {col: mergedDf[col].nunique() for col in categorical_columns}\n",
    "print(pd.Series(value_counts, name=\"Unique Value Counts\"))"
   ]
  },
  {
   "cell_type": "markdown",
   "metadata": {
    "id": "gvx-gT3bLfHM"
   },
   "source": [
    "# 1. Split Training Set and Validation Set\n",
    "\n",
    "Splitting the training and validation set works as an early diagnostic towards the performance of the model we train. This is done before the preprocessing steps to **avoid data leakage inbetween the sets**. If you want to use k-fold cross-validation, split the data later and do the cleaning and preprocessing separately for each split.\n",
    "\n",
    "Note: For training, you should use the data contained in the `train` folder given by the TA. The `test` data is only used for kaggle submission."
   ]
  },
  {
   "cell_type": "code",
   "execution_count": 54,
   "metadata": {
    "id": "4yWCUFFBLfHM"
   },
   "outputs": [],
   "source": [
    "# Split training set and validation set here, store into variables train_set and val_set.\n",
    "# Remember to also keep the original training set before splitting. This will come important later.\n",
    "\n",
    "def split_data(df):\n",
    "    X = df.drop('attack_cat', axis=1)\n",
    "    y = df.attack_cat\n",
    "    X_train, X_val, y_train, y_val = train_test_split(X,y,test_size=0.2,random_state=42)\n",
    "    return X_train, X_val, y_train, y_val"
   ]
  },
  {
   "cell_type": "markdown",
   "metadata": {
    "id": "IC14lmo_LfHN"
   },
   "source": [
    "# 2. Data Cleaning and Preprocessing\n",
    "\n",
    "This step is the first thing to be done once a Data Scientist have grasped a general knowledge of the data. Raw data is **seldom ready for training**, therefore steps need to be taken to clean and format the data for the Machine Learning model to interpret.\n",
    "\n",
    "By performing data cleaning and preprocessing, you ensure that your dataset is ready for model training, leading to more accurate and reliable machine learning results. These steps are essential for transforming raw data into a format that machine learning algorithms can effectively learn from and make predictions.\n",
    "\n",
    "We will give some common methods for you to try, but you only have to **at least implement one method for each process**. For each step that you will do, **please explain the reason why did you do that process. Write it in a markdown cell under the code cell you wrote.**"
   ]
  },
  {
   "cell_type": "markdown",
   "metadata": {
    "id": "p95_A8hSLfHY"
   },
   "source": [
    "## A. Data Cleaning\n",
    "\n",
    "**Data cleaning** is the crucial first step in preparing your dataset for machine learning. Raw data collected from various sources is often messy and may contain errors, missing values, and inconsistencies. Data cleaning involves the following steps:\n",
    "\n",
    "1. **Handling Missing Data:** Identify and address missing values in the dataset. This can include imputing missing values, removing rows or columns with excessive missing data, or using more advanced techniques like interpolation.\n",
    "\n",
    "2. **Dealing with Outliers:** Identify and handle outliers, which are data points significantly different from the rest of the dataset. Outliers can be removed or transformed to improve model performance.\n",
    "\n",
    "3. **Data Validation:** Check for data integrity and consistency. Ensure that data types are correct, categorical variables have consistent labels, and numerical values fall within expected ranges.\n",
    "\n",
    "4. **Removing Duplicates:** Identify and remove duplicate rows, as they can skew the model's training process and evaluation metrics.\n",
    "\n",
    "5. **Feature Engineering**: Create new features or modify existing ones to extract relevant information. This step can involve scaling, normalizing, or encoding features for better model interpretability."
   ]
  },
  {
   "cell_type": "markdown",
   "metadata": {
    "id": "_wruGao9LfHZ"
   },
   "source": [
    "### I. Handling Missing Data\n",
    "\n",
    "Missing data can adversely affect the performance and accuracy of machine learning models. There are several strategies to handle missing data in machine learning:\n",
    "\n",
    "1. **Data Imputation:**\n",
    "\n",
    "    a. **Mean, Median, or Mode Imputation:** For numerical features, you can replace missing values with the mean, median, or mode of the non-missing values in the same feature. This method is simple and often effective when data is missing at random.\n",
    "\n",
    "    b. **Constant Value Imputation:** You can replace missing values with a predefined constant value (e.g., 0) if it makes sense for your dataset and problem.\n",
    "\n",
    "    c. **Imputation Using Predictive Models:** More advanced techniques involve using predictive models to estimate missing values. For example, you can train a regression model to predict missing numerical values or a classification model to predict missing categorical values.\n",
    "\n",
    "2. **Deletion of Missing Data:**\n",
    "\n",
    "    a. **Listwise Deletion:** In cases where the amount of missing data is relatively small, you can simply remove rows with missing values from your dataset. However, this approach can lead to a loss of valuable information.\n",
    "\n",
    "    b. **Column (Feature) Deletion:** If a feature has a large number of missing values and is not critical for your analysis, you can consider removing that feature altogether.\n",
    "\n",
    "3. **Domain-Specific Strategies:**\n",
    "\n",
    "    a. **Domain Knowledge:** In some cases, domain knowledge can guide the imputation process. For example, if you know that missing values are related to a specific condition, you can impute them accordingly.\n",
    "\n",
    "4. **Imputation Libraries:**\n",
    "\n",
    "    a. **Scikit-Learn:** Scikit-Learn provides a `SimpleImputer` class that can handle basic imputation strategies like mean, median, and mode imputation.\n",
    "\n",
    "    b. **Fancyimpute:** Fancyimpute is a Python library that offers more advanced imputation techniques, including matrix factorization, k-nearest neighbors, and deep learning-based methods.\n",
    "\n",
    "The choice of imputation method should be guided by the nature of your data, the amount of missing data, the problem you are trying to solve, and the assumptions you are willing to make."
   ]
  },
  {
   "cell_type": "code",
   "execution_count": null,
   "metadata": {
    "id": "ucZNfCkiLfHZ"
   },
   "outputs": [],
   "source": [
    "class DataCleaner(BaseEstimator, TransformerMixin):\n",
    "    def __init__(self, missing_threshold=0.5, columns_to_drop=['id', 'label'], impute_strategy='mean'):\n",
    "        self.missing_threshold = missing_threshold\n",
    "        self.columns_to_drop = columns_to_drop\n",
    "        self.impute_strategy = impute_strategy\n",
    "\n",
    "    def fit(self, X, y=None):\n",
    "        self.columns_to_keep_ = X.columns[X.isnull().mean() < self.missing_threshold].tolist()\n",
    "        self.columns_to_keep_ = [col for col in self.columns_to_keep_ if col not in self.columns_to_drop]\n",
    "\n",
    "        numeric_columns = [col for col in self.columns_to_keep_ if X[col].dtype in ['float64', 'int64']]\n",
    "        self.imputer = SimpleImputer(strategy=self.impute_strategy)\n",
    "        self.imputer.fit(X[numeric_columns])\n",
    "        return self\n",
    "\n",
    "    def transform(self, X):\n",
    "        X_clean = X[self.columns_to_keep_].copy()\n",
    "        numeric_columns = [col for col in self.columns_to_keep_ if X_clean[col].dtype in ['float64', 'int64']]\n",
    "        X_clean[numeric_columns] = self.imputer.transform(X_clean[numeric_columns])\n",
    "\n",
    "        return X_clean\n"
   ]
  },
  {
   "cell_type": "markdown",
   "metadata": {
    "id": "zgrSMcK75VY_"
   },
   "source": [
    "### II. Dealing with Outliers\n",
    "\n",
    "Outliers are data points that significantly differ from the majority of the data. They can be unusually high or low values that do not fit the pattern of the rest of the dataset. Outliers can significantly impact model performance, so it is important to handle them properly.\n",
    "\n",
    "Some methods to handle outliers:\n",
    "1. **Imputation**: Replace with mean, median, or a boundary value.\n",
    "2. **Clipping**: Cap values to upper and lower limits.\n",
    "3. **Transformation**: Use log, square root, or power transformations to reduce their influence.\n",
    "4. **Model-Based**: Use algorithms robust to outliers (e.g., tree-based models, Huber regression)."
   ]
  },
  {
   "cell_type": "code",
   "execution_count": 56,
   "metadata": {
    "id": "CgbZ6Lv17Uf0"
   },
   "outputs": [],
   "source": [
    "class OutlierCapper(BaseEstimator, TransformerMixin):\n",
    "    def __init__(self, threshold=10):\n",
    "        self.threshold = threshold\n",
    "\n",
    "    def fit(self, X, y=None):\n",
    "        self.medians_ = X.median()\n",
    "        self.percentiles_ = X.quantile(0.95)\n",
    "        return self\n",
    "\n",
    "    def transform(self, X):\n",
    "        X_capped = X.copy()\n",
    "        for col in X_capped.select_dtypes(include=[np.number]).columns:\n",
    "            max_value = X_capped[col].max()\n",
    "            median_value = self.medians_[col]\n",
    "            if max_value > self.threshold * median_value and max_value > self.threshold:\n",
    "                cap_value = self.percentiles_[col]\n",
    "                X_capped[col] = np.where(X_capped[col] > cap_value, cap_value, X_capped[col])\n",
    "        return X_capped"
   ]
  },
  {
   "cell_type": "markdown",
   "metadata": {
    "id": "aO0ZEZ-s6Lu-"
   },
   "source": [
    "### III. Remove Duplicates\n",
    "Handling duplicate values is crucial because they can compromise data integrity, leading to inaccurate analysis and insights. Duplicate entries can bias machine learning models, causing overfitting and reducing their ability to generalize to new data. They also inflate the dataset size unnecessarily, increasing computational costs and processing times. Additionally, duplicates can distort statistical measures and lead to inconsistencies, ultimately affecting the reliability of data-driven decisions and reporting. Ensuring data quality by removing duplicates is essential for accurate, efficient, and consistent analysis."
   ]
  },
  {
   "cell_type": "code",
   "execution_count": 57,
   "metadata": {
    "id": "BHCkkZ-v7iF8"
   },
   "outputs": [],
   "source": [
    "def remove_duplicates(df):\n",
    "    print(f\"Number of duplicates before removing: {df.duplicated().sum()}\")\n",
    "    \n",
    "    df_cleaned = df.drop_duplicates()\n",
    "    \n",
    "    print(f\"Number of duplicates after removing: {df_cleaned.duplicated().sum()}\")\n",
    "    \n",
    "    return df_cleaned\n",
    "\n",
    "# remove_duplicates(mergedDf)"
   ]
  },
  {
   "cell_type": "markdown",
   "metadata": {
    "id": "eycPASmMLfHa"
   },
   "source": [
    "### IV. Feature Engineering\n",
    "\n",
    "**Feature engineering** involves creating new features (input variables) or transforming existing ones to improve the performance of machine learning models. Feature engineering aims to enhance the model's ability to learn patterns and make accurate predictions from the data. It's often said that \"good features make good models.\"\n",
    "\n",
    "1. **Feature Selection:** Feature engineering can involve selecting the most relevant and informative features from the dataset. Removing irrelevant or redundant features not only simplifies the model but also reduces the risk of overfitting.\n",
    "\n",
    "2. **Creating New Features:** Sometimes, the existing features may not capture the underlying patterns effectively. In such cases, engineers create new features that provide additional information. For example:\n",
    "   \n",
    "   - **Polynomial Features:** Engineers may create new features by taking the square, cube, or other higher-order terms of existing numerical features. This can help capture nonlinear relationships.\n",
    "   \n",
    "   - **Interaction Features:** Interaction features are created by combining two or more existing features. For example, if you have features \"length\" and \"width,\" you can create an \"area\" feature by multiplying them.\n",
    "\n",
    "3. **Binning or Discretization:** Continuous numerical features can be divided into bins or categories. For instance, age values can be grouped into bins like \"child,\" \"adult,\" and \"senior.\"\n",
    "\n",
    "4. **Domain-Specific Feature Engineering:** Depending on the domain and problem, engineers may create domain-specific features. For example, in fraud detection, features related to transaction history and user behavior may be engineered to identify anomalies.\n",
    "\n",
    "Feature engineering is both a creative and iterative process. It requires a deep understanding of the data, domain knowledge, and experimentation to determine which features will enhance the model's predictive power."
   ]
  },
  {
   "cell_type": "code",
   "execution_count": 58,
   "metadata": {
    "id": "UoXEV6wkLfHa"
   },
   "outputs": [],
   "source": [
    "# Write your code here"
   ]
  },
  {
   "cell_type": "markdown",
   "metadata": {
    "id": "xw11_49xLfHb"
   },
   "source": [
    "## B. Data Preprocessing\n",
    "\n",
    "**Data preprocessing** is a broader step that encompasses both data cleaning and additional transformations to make the data suitable for machine learning algorithms. Its primary goals are:\n",
    "\n",
    "1. **Feature Scaling:** Ensure that numerical features have similar scales. Common techniques include Min-Max scaling (scaling to a specific range) or standardization (mean-centered, unit variance).\n",
    "\n",
    "2. **Encoding Categorical Variables:** Machine learning models typically work with numerical data, so categorical variables need to be encoded. This can be done using one-hot encoding, label encoding, or more advanced methods like target encoding.\n",
    "\n",
    "3. **Handling Imbalanced Classes:** If dealing with imbalanced classes in a binary classification task, apply techniques such as oversampling, undersampling, or using different evaluation metrics to address class imbalance.\n",
    "\n",
    "4. **Dimensionality Reduction:** Reduce the number of features using techniques like Principal Component Analysis (PCA) or feature selection to simplify the model and potentially improve its performance.\n",
    "\n",
    "5. **Normalization:** Normalize data to achieve a standard distribution. This is particularly important for algorithms that assume normally distributed data."
   ]
  },
  {
   "cell_type": "markdown",
   "metadata": {
    "id": "rVyVnA1hLfHd"
   },
   "source": [
    "### Notes on Preprocessing processes\n",
    "\n",
    "It is advised to create functions or classes that have the same/similar type of inputs and outputs, so you can add, remove, or swap the order of the processes easily. You can implement the functions or classes by yourself\n",
    "\n",
    "or\n",
    "\n",
    "use `sklearn` library. To create a new preprocessing component in `sklearn`, implement a corresponding class that includes:\n",
    "1. Inheritance to `BaseEstimator` and `TransformerMixin`\n",
    "2. The method `fit`\n",
    "3. The method `transform`"
   ]
  },
  {
   "cell_type": "code",
   "execution_count": 59,
   "metadata": {
    "id": "WbxHt-5eKz_I"
   },
   "outputs": [],
   "source": [
    "# Example\n",
    "\n",
    "# from sklearn.base import BaseEstimator, TransformerMixin\n",
    "\n",
    "# class FeatureEncoder(BaseEstimator, TransformerMixin):\n",
    "\n",
    "#     def fit(self, X, y=None):\n",
    "\n",
    "#         # Fit the encoder here\n",
    "\n",
    "#         return self\n",
    "\n",
    "#     def transform(self, X):\n",
    "#         X_encoded = X.copy()\n",
    "\n",
    "#         # Encode the categorical variables here\n",
    "\n",
    "#         return X_encoded"
   ]
  },
  {
   "cell_type": "markdown",
   "metadata": {
    "id": "WhCgOl4xLfHb"
   },
   "source": [
    "### I. Feature Scaling\n",
    "\n",
    "**Feature scaling** is a preprocessing technique used in machine learning to standardize the range of independent variables or features of data. The primary goal of feature scaling is to ensure that all features contribute equally to the training process and that machine learning algorithms can work effectively with the data.\n",
    "\n",
    "Here are the main reasons why feature scaling is important:\n",
    "\n",
    "1. **Algorithm Sensitivity:** Many machine learning algorithms are sensitive to the scale of input features. If the scales of features are significantly different, some algorithms may perform poorly or take much longer to converge.\n",
    "\n",
    "2. **Distance-Based Algorithms:** Algorithms that rely on distances or similarities between data points, such as k-nearest neighbors (KNN) and support vector machines (SVM), can be influenced by feature scales. Features with larger scales may dominate the distance calculations.\n",
    "\n",
    "3. **Regularization:** Regularization techniques, like L1 (Lasso) and L2 (Ridge) regularization, add penalty terms based on feature coefficients. Scaling ensures that all features are treated equally in the regularization process.\n",
    "\n",
    "Common methods for feature scaling include:\n",
    "\n",
    "1. **Min-Max Scaling (Normalization):** This method scales features to a specific range, typically [0, 1]. It's done using the following formula:\n",
    "\n",
    "   $$X' = \\frac{X - X_{min}}{X_{max} - X_{min}}$$\n",
    "\n",
    "   - Here, $X$ is the original feature value, $X_{min}$ is the minimum value of the feature, and $X_{max}$ is the maximum value of the feature.  \n",
    "<br />\n",
    "<br />\n",
    "2. **Standardization (Z-score Scaling):** This method scales features to have a mean (average) of 0 and a standard deviation of 1. It's done using the following formula:\n",
    "\n",
    "   $$X' = \\frac{X - \\mu}{\\sigma}$$\n",
    "\n",
    "   - $X$ is the original feature value, $\\mu$ is the mean of the feature, and $\\sigma$ is the standard deviation of the feature.  \n",
    "<br />\n",
    "<br />\n",
    "3. **Robust Scaling:** Robust scaling is a method that scales features to the interquartile range (IQR) and is less affected by outliers. It's calculated as:\n",
    "\n",
    "   $$X' = \\frac{X - Q1}{Q3 - Q1}$$\n",
    "\n",
    "   - $X$ is the original feature value, $Q1$ is the first quartile (25th percentile), and $Q3$ is the third quartile (75th percentile) of the feature.  \n",
    "<br />\n",
    "<br />\n",
    "4. **Log Transformation:** In cases where data is highly skewed or has a heavy-tailed distribution, taking the logarithm of the feature values can help stabilize the variance and improve scaling.\n",
    "\n",
    "The choice of scaling method depends on the characteristics of your data and the requirements of your machine learning algorithm. **Min-max scaling and standardization are the most commonly used techniques and work well for many datasets.**\n",
    "\n",
    "Scaling should be applied separately to each training and test set to prevent data leakage from the test set into the training set. Additionally, **some algorithms may not require feature scaling, particularly tree-based models.**"
   ]
  },
  {
   "cell_type": "code",
   "execution_count": 122,
   "metadata": {
    "id": "COef9EbCLfHb"
   },
   "outputs": [],
   "source": [
    "# Write your code here\n",
    "class RobustScalerTransformer(BaseEstimator, TransformerMixin):\n",
    "    def fit(self, X, y=None):\n",
    "        self.medians_ = X.median()\n",
    "        self.iqrs_ = X.quantile(0.75) - X.quantile(0.25)\n",
    "        return self\n",
    "\n",
    "    def transform(self, X):\n",
    "        X_scaled = X.copy()\n",
    "        for col in X_scaled.select_dtypes(include=[np.number]).columns:\n",
    "            median = self.medians_[col]\n",
    "            iqr = self.iqrs_[col]\n",
    "            if iqr == 0:  # Avoid division by zero\n",
    "                X_scaled[col] = X_scaled[col] - median\n",
    "            else:\n",
    "                X_scaled[col] = (X_scaled[col] - median) / iqr\n",
    "        return X_scaled\n",
    "\n",
    "\n",
    "class RobustScalerWithImputer(BaseEstimator, TransformerMixin):\n",
    "    def __init__(self, impute_strategy='median'):\n",
    "        \"\"\"\n",
    "        A transformer that first imputes missing values and then applies robust scaling to numeric columns only.\n",
    "        \n",
    "        Parameters:\n",
    "        - impute_strategy: Strategy for imputation ('mean', 'median', or 'most_frequent').\n",
    "        \"\"\"\n",
    "        self.impute_strategy = impute_strategy\n",
    "        self.imputer = SimpleImputer(strategy=self.impute_strategy)\n",
    "\n",
    "    def fit(self, X, y=None):\n",
    "        # Select only numeric columns\n",
    "        self.numeric_columns_ = X.select_dtypes(include=['number']).columns\n",
    "\n",
    "        # Fit the imputer on numeric data\n",
    "        self.imputer.fit(X[self.numeric_columns_])\n",
    "\n",
    "        # Calculate medians and IQRs for robust scaling\n",
    "        self.medians_ = X[self.numeric_columns_].median()\n",
    "        self.iqrs_ = X[self.numeric_columns_].quantile(0.75) - X[self.numeric_columns_].quantile(0.25)\n",
    "\n",
    "        return self\n",
    "\n",
    "    def transform(self, X):\n",
    "        # Impute missing values for numeric columns\n",
    "        X_numeric = X[self.numeric_columns_]\n",
    "        X_imputed = pd.DataFrame(\n",
    "            self.imputer.transform(X_numeric),\n",
    "            columns=self.numeric_columns_,\n",
    "            index=X.index\n",
    "        )\n",
    "        \n",
    "        # Apply robust scaling to numeric columns\n",
    "        X_scaled = X_imputed.copy()\n",
    "        for col in self.numeric_columns_:\n",
    "            median = self.medians_[col]\n",
    "            iqr = self.iqrs_[col]\n",
    "            if iqr == 0:  # Avoid division by zero\n",
    "                X_scaled[col] = X_scaled[col] - median\n",
    "            else:\n",
    "                X_scaled[col] = (X_scaled[col] - median) / iqr\n",
    "\n",
    "        # Replace numeric columns in original data with scaled values\n",
    "        X_transformed = X.copy()\n",
    "        X_transformed[self.numeric_columns_] = X_scaled\n",
    "\n",
    "        return X_transformed\n",
    "\n",
    "\n",
    "\n",
    "class LogTransformer(BaseEstimator, TransformerMixin):\n",
    "    def __init__(self, unique_threshold=50):\n",
    "        self.unique_threshold = unique_threshold\n",
    "\n",
    "    def fit(self, X, y=None):\n",
    "        self.features_to_transform_ = [\n",
    "            col for col in X.select_dtypes(include=[np.number]).columns\n",
    "            if X[col].nunique() > self.unique_threshold\n",
    "        ]\n",
    "        return self\n",
    "\n",
    "    def transform(self, X):\n",
    "        X_transformed = X.copy()\n",
    "        for feature in self.features_to_transform_:\n",
    "            if X_transformed[feature].min() == 0:\n",
    "                X_transformed[feature] = np.log(X_transformed[feature] + 1)\n",
    "            else:\n",
    "                X_transformed[feature] = np.log(X_transformed[feature])\n",
    "        return X_transformed"
   ]
  },
  {
   "cell_type": "markdown",
   "metadata": {
    "id": "f_Lh-4JwLfHc"
   },
   "source": [
    "### II. Feature Encoding\n",
    "\n",
    "**Feature encoding**, also known as **categorical encoding**, is the process of converting categorical data (non-numeric data) into a numerical format so that it can be used as input for machine learning algorithms. Most machine learning models require numerical data for training and prediction, so feature encoding is a critical step in data preprocessing.\n",
    "\n",
    "Categorical data can take various forms, including:\n",
    "\n",
    "1. **Nominal Data:** Categories with no intrinsic order, like colors or country names.  \n",
    "\n",
    "2. **Ordinal Data:** Categories with a meaningful order but not necessarily equidistant, like education levels (e.g., \"high school,\" \"bachelor's,\" \"master's\").\n",
    "\n",
    "There are several common methods for encoding categorical data:\n",
    "\n",
    "1. **Label Encoding:**\n",
    "\n",
    "   - Label encoding assigns a unique integer to each category in a feature.\n",
    "   - It's suitable for ordinal data where there's a clear order among categories.\n",
    "   - For example, if you have an \"education\" feature with values \"high school,\" \"bachelor's,\" and \"master's,\" you can encode them as 0, 1, and 2, respectively.\n",
    "<br />\n",
    "<br />\n",
    "2. **One-Hot Encoding:**\n",
    "\n",
    "   - One-hot encoding creates a binary (0 or 1) column for each category in a nominal feature.\n",
    "   - It's suitable for nominal data where there's no inherent order among categories.\n",
    "   - Each category becomes a new feature, and the presence (1) or absence (0) of a category is indicated for each row.\n",
    "<br />\n",
    "<br />\n",
    "3. **Target Encoding (Mean Encoding):**\n",
    "\n",
    "   - Target encoding replaces each category with the mean of the target variable for that category.\n",
    "   - It's often used for classification problems."
   ]
  },
  {
   "cell_type": "code",
   "execution_count": 123,
   "metadata": {
    "id": "psElSUugLfHc"
   },
   "outputs": [],
   "source": [
    "# Write your code here\n",
    "class OneHotEncoderTransformer(BaseEstimator, TransformerMixin):\n",
    "    def __init__(self, drop='first', handle_unknown='ignore'):\n",
    "        self.drop = drop\n",
    "        self.handle_unknown = handle_unknown\n",
    "\n",
    "    def fit(self, X, y=None):\n",
    "        self.encoder = OneHotEncoder(drop=self.drop, handle_unknown=self.handle_unknown, sparse=False)\n",
    "        self.encoder.fit(X)\n",
    "        return self\n",
    "\n",
    "    def transform(self, X):\n",
    "        X_encoded = self.encoder.transform(X)\n",
    "        return pd.DataFrame(X_encoded, columns=self.encoder.get_feature_names_out(input_features=X.columns), index=X.index)\n",
    "\n",
    "\n",
    "class LabelEncoderTransformer(BaseEstimator, TransformerMixin):\n",
    "    def fit(self, X, y=None):\n",
    "        \"\"\"\n",
    "        Fits a LabelEncoder for each categorical or object column.\n",
    "        \"\"\"\n",
    "        # Identify categorical or object columns\n",
    "        self.categorical_columns_ = X.select_dtypes(include=['object', 'category']).columns\n",
    "        self.mappings = {}\n",
    "\n",
    "        # Fit a LabelEncoder for each categorical column\n",
    "        for col in self.categorical_columns_:\n",
    "            le = LabelEncoder()\n",
    "            X[col] = X[col].astype(str)  # Convert to string to handle all cases\n",
    "            le.fit(X[col])\n",
    "            self.mappings[col] = le\n",
    "        return self\n",
    "\n",
    "    def transform(self, X):\n",
    "        \"\"\"\n",
    "        Transforms each categorical or object column using the fitted LabelEncoder.\n",
    "        \"\"\"\n",
    "        X_encoded = X.copy()\n",
    "\n",
    "        # Apply the LabelEncoder to each categorical column\n",
    "        for col in self.categorical_columns_:\n",
    "            le = self.mappings[col]\n",
    "            X_encoded[col] = X_encoded[col].astype(str).map(lambda val: le.transform([val])[0] if val in le.classes_ else -1)\n",
    "\n",
    "        return X_encoded\n"
   ]
  },
  {
   "cell_type": "markdown",
   "metadata": {
    "id": "jKQO9wtB8Pc0"
   },
   "source": [
    "### III. Handling Imbalanced Dataset\n",
    "\n",
    "**Handling imbalanced datasets** is important because imbalanced data can lead to several issues that negatively impact the performance and reliability of machine learning models. Here are some key reasons:\n",
    "\n",
    "1. **Biased Model Performance**:\n",
    "\n",
    " - Models trained on imbalanced data tend to be biased towards the majority class, leading to poor performance on the minority class. This can result in misleading accuracy metrics.\n",
    "\n",
    "2. **Misleading Accuracy**:\n",
    "\n",
    " - High overall accuracy can be misleading in imbalanced datasets. For example, if 95% of the data belongs to one class, a model that always predicts the majority class will have 95% accuracy but will fail to identify the minority class.\n",
    "\n",
    "3. **Poor Generalization**:\n",
    "\n",
    " - Models trained on imbalanced data may not generalize well to new, unseen data, especially if the minority class is underrepresented.\n",
    "\n",
    "\n",
    "Some methods to handle imbalanced datasets:\n",
    "1. **Resampling Methods**:\n",
    "\n",
    " - Oversampling: Increase the number of instances in the minority class by duplicating or generating synthetic samples (e.g., SMOTE).\n",
    " - Undersampling: Reduce the number of instances in the majority class to balance the dataset.\n",
    "\n",
    "2. **Evaluation Metrics**:\n",
    "\n",
    " - Use appropriate evaluation metrics such as precision, recall, F1-score, ROC-AUC, and confusion matrix instead of accuracy to better assess model performance on imbalanced data.\n",
    "\n",
    "3. **Algorithmic Approaches**:\n",
    "\n",
    " - Use algorithms that are designed to handle imbalanced data, such as decision trees, random forests, or ensemble methods.\n",
    " - Adjust class weights in algorithms to give more importance to the minority class."
   ]
  },
  {
   "cell_type": "code",
   "execution_count": 62,
   "metadata": {
    "id": "u2BQd2XJ9W1i"
   },
   "outputs": [],
   "source": [
    "# Write your code here\n",
    "class ImbalancedDataHandler(BaseEstimator, TransformerMixin):\n",
    "    def __init__(self, method=\"oversampling\", random_state=42):\n",
    "        self.method = method\n",
    "        self.random_state = random_state\n",
    "\n",
    "    def fit(self, X, y=None):\n",
    "        self.target_name_ = y.name if y is not None else \"target\"\n",
    "        return self\n",
    "\n",
    "    def transform(self, X, y):\n",
    "        data = pd.concat([X, y], axis=1)\n",
    "        majority_class = data[data[self.target_name_] == y.value_counts().idxmax()]\n",
    "        minority_class = data[data[self.target_name_] == y.value_counts().idxmin()]\n",
    "\n",
    "        if self.method == \"oversampling\":\n",
    "            n_samples_to_add = len(majority_class) - len(minority_class)\n",
    "            oversampled_minority = minority_class.sample(n=n_samples_to_add, replace=True, random_state=self.random_state)\n",
    "            resampled_data = pd.concat([majority_class, minority_class, oversampled_minority])\n",
    "        elif self.method == \"undersampling\":\n",
    "            majority_downsampled = majority_class.sample(n=len(minority_class), random_state=self.random_state)\n",
    "            resampled_data = pd.concat([majority_downsampled, minority_class])\n",
    "        else:\n",
    "            raise ValueError(\"Method should be either 'oversampling' or 'undersampling'\")\n",
    "\n",
    "        resampled_X = resampled_data.drop(columns=self.target_name_)\n",
    "        resampled_y = resampled_data[self.target_name_]\n",
    "\n",
    "        return resampled_X, resampled_y"
   ]
  },
  {
   "cell_type": "markdown",
   "metadata": {
    "id": "fTMSyUzf_-HQ"
   },
   "source": [
    "### IV. Data Normalization\n",
    "\n",
    "Data normalization is used to achieve a standard distribution. Without normalization, models or processes that rely on the assumption of normality may not work correctly. Normalization helps reduce the magnitude effect and ensures numerical stability during optimization."
   ]
  },
  {
   "cell_type": "code",
   "execution_count": 63,
   "metadata": {
    "id": "HLOWHftjF1JU"
   },
   "outputs": [],
   "source": [
    "# Write your code here\n",
    "class MinMaxScalerWrapper(BaseEstimator, TransformerMixin):\n",
    "    def __init__(self, feature_range=(0, 1)):\n",
    "        self.feature_range = feature_range\n",
    "        self.scaler = MinMaxScaler(feature_range=self.feature_range)\n",
    "\n",
    "    def fit(self, X, y=None):\n",
    "        self.scaler.fit(X)\n",
    "        return self\n",
    "\n",
    "    def transform(self, X):\n",
    "        return self.scaler.transform(X)\n",
    "\n",
    "    def inverse_transform(self, X):\n",
    "        return self.scaler.inverse_transform(X)"
   ]
  },
  {
   "cell_type": "markdown",
   "metadata": {
    "id": "MSZPZSntF3Kb"
   },
   "source": [
    "### V. Dimensionality Reduction\n",
    "\n",
    "Dimensionality reduction is a technique used in data preprocessing to reduce the number of input features (dimensions) in a dataset while retaining as much important information as possible. It is essential when dealing with high-dimensional data, where too many features can cause problems like increased computational costs, overfitting, and difficulty in visualization. Reducing dimensions simplifies the data, making it easier to analyze and improving the performance of machine learning models.\n",
    "\n",
    "One of the main approaches to dimensionality reduction is feature extraction. Feature extraction creates new, smaller sets of features that capture the essence of the original data. Common techniques include:\n",
    "\n",
    "1. **Principal Component Analysis (PCA)**: Converts correlated features into a smaller number of uncorrelated \"principal components.\"\n",
    "2. **t-SNE (t-Distributed Stochastic Neighbor Embedding)**: A visualization-focused method to project high-dimensional data into 2D or 3D spaces.\n",
    "3. **Autoencoders**: Neural networks that learn compressed representations of the data."
   ]
  },
  {
   "cell_type": "code",
   "execution_count": 64,
   "metadata": {
    "id": "5rksSMAWICY_"
   },
   "outputs": [],
   "source": [
    "# Write your code here\n",
    "\n",
    "class PCATransformer(BaseEstimator, TransformerMixin):\n",
    "    def __init__(self, n_components=None):\n",
    "        self.n_components = n_components\n",
    "        self.pca = PCA(n_components=self.n_components)\n",
    "\n",
    "    def fit(self, X, y=None):\n",
    "        self.pca.fit(X)\n",
    "        return self\n",
    "\n",
    "    def transform(self, X):\n",
    "        return self.pca.transform(X)\n",
    "\n",
    "    def explained_variance_ratio(self):\n",
    "        return self.pca.explained_variance_ratio_\n",
    "\n",
    "    def singular_values(self):\n",
    "        return self.pca.singular_values_\n",
    "    \n",
    "\n",
    "class SelectKBestTransformer(BaseEstimator, TransformerMixin):\n",
    "    def __init__(self, score_func=None, k=10):\n",
    "        self.score_func = score_func\n",
    "        self.k = k\n",
    "        self.selector = SelectKBest(score_func=self.score_func, k=self.k)\n",
    "\n",
    "    def fit(self, X, y=None):\n",
    "        self.selector.fit(X, y)\n",
    "        return self\n",
    "\n",
    "    def transform(self, X):\n",
    "        return self.selector.transform(X)\n",
    "\n",
    "    def get_support(self, indices=False):\n",
    "        return self.selector.get_support(indices=indices)"
   ]
  },
  {
   "cell_type": "markdown",
   "metadata": {
    "id": "-ctVzt5DLfHd"
   },
   "source": [
    "# 3. Compile Preprocessing Pipeline\n",
    "\n",
    "All of the preprocessing classes or functions defined earlier will be compiled in this step."
   ]
  },
  {
   "cell_type": "markdown",
   "metadata": {
    "id": "S_ZlncSVjJG6"
   },
   "source": [
    "If you use sklearn to create preprocessing classes, you can list your preprocessing classes in the Pipeline object sequentially, and then fit and transform your data."
   ]
  },
  {
   "cell_type": "code",
   "execution_count": 124,
   "metadata": {},
   "outputs": [],
   "source": [
    "# Split the data\n",
    "X_train, X_val, y_train, y_val = split_data(mergedDf)"
   ]
  },
  {
   "cell_type": "code",
   "execution_count": 135,
   "metadata": {
    "id": "jHraoW_7LfHd"
   },
   "outputs": [],
   "source": [
    "# Define Preprocessing Pipeline\n",
    "preprocessing_pipeline = Pipeline([\n",
    "    ('data_cleaner', DataCleaner(missing_threshold=0.5, columns_to_drop=['id', 'label'], impute_strategy='mean')),\n",
    "    ('scaler', RobustScalerWithImputer()),\n",
    "    ('label', LabelEncoderTransformer()),\n",
    "    # ('outlier_capper', OutlierCapper(threshold=10)),\n",
    "    # ('log_transformer', LogTransformer(unique_threshold=50)),\n",
    "    # ('pca', PCATransformer(n_components=5)),  # Reduce dimensionality to 5 components\n",
    "])\n",
    "\n",
    "# Define Feature Selection Pipeline\n",
    "feature_selection_pipeline = Pipeline([\n",
    "    # ('feature_selector', SelectKBestTransformer(score_func=chi2, k=10)),\n",
    "])\n",
    "\n",
    "# Combine Preprocessing and Feature Selection\n",
    "full_pipeline = Pipeline([\n",
    "    ('preprocessing', preprocessing_pipeline),\n",
    "    # ('feature_selection', feature_selection_pipeline),\n",
    "])"
   ]
  },
  {
   "cell_type": "code",
   "execution_count": null,
   "metadata": {
    "id": "9s56aFFxLfHd"
   },
   "outputs": [],
   "source": [
    "# Apply the pipeline\n",
    "X_train_preprocessed = full_pipeline.fit_transform(X_train, y_train)\n",
    "X_val_preprocessed = full_pipeline.transform(X_val)\n",
    "\n",
    "\n",
    "\n",
    "# Apply the pipeline to training and validation sets\n",
    "X_train_preprocessed = full_pipeline.fit_transform(X_train, y_train)\n",
    "X_val_preprocessed = full_pipeline.transform(X_val)\n",
    "\n",
    "# Print Results\n",
    "print(\"Shape of X_train after preprocessing:\", X_train_preprocessed.shape)\n",
    "print(\"Shape of X_val after preprocessing:\", X_val_preprocessed.shape)"
   ]
  },
  {
   "cell_type": "markdown",
   "metadata": {
    "id": "SXoCqMztjhr-"
   },
   "source": [
    "or create your own here"
   ]
  },
  {
   "cell_type": "code",
   "execution_count": 67,
   "metadata": {
    "id": "7OoZ3oXEj2CW"
   },
   "outputs": [],
   "source": [
    "# Write your code here"
   ]
  },
  {
   "cell_type": "markdown",
   "metadata": {
    "id": "9A3adbZXLfHe"
   },
   "source": [
    "# 4. Modeling and Validation\n",
    "\n",
    "Modelling is the process of building your own machine learning models to solve specific problems, or in this assignment context, predicting the target feature `attack_cat`. Validation is the process of evaluating your trained model using the validation set or cross-validation method and providing some metrics that can help you decide what to do in the next iteration of development."
   ]
  },
  {
   "cell_type": "markdown",
   "metadata": {
    "id": "ZnhMNbBILfHf"
   },
   "source": [
    "## A. KNN"
   ]
  },
  {
   "cell_type": "code",
   "execution_count": 68,
   "metadata": {
    "id": "KV6ICmFmlqjk"
   },
   "outputs": [],
   "source": [
    "# Type your code here"
   ]
  },
  {
   "cell_type": "markdown",
   "metadata": {
    "id": "nW0bMzkDLfHf"
   },
   "source": [
    "## B. Naive Bayes"
   ]
  },
  {
   "cell_type": "code",
   "execution_count": 69,
   "metadata": {
    "id": "C_XwsN_-LfHg"
   },
   "outputs": [],
   "source": [
    "# Type your code here"
   ]
  },
  {
   "cell_type": "markdown",
   "metadata": {
    "id": "TLDtIkPdLfHg"
   },
   "source": [
    "## C. ID3"
   ]
  },
  {
   "cell_type": "code",
   "execution_count": 70,
   "metadata": {
    "id": "gZ6_x1LKLfHh"
   },
   "outputs": [],
   "source": [
    "# Type your code here"
   ]
  },
  {
   "cell_type": "markdown",
   "metadata": {
    "id": "LoH2u6fOLfHh"
   },
   "source": [
    "## D. Improvements (Optional)\n",
    "\n",
    "- **Visualize the model evaluation result**\n",
    "\n",
    "This will help you to understand the details more clearly about your model's performance. From the visualization, you can see clearly if your model is leaning towards a class than the others. (Hint: confusion matrix, ROC-AUC curve, etc.)\n",
    "\n",
    "- **Explore the hyperparameters of your models**\n",
    "\n",
    "Each models have their own hyperparameters. And each of the hyperparameter have different effects on the model behaviour. You can optimize the model performance by finding the good set of hyperparameters through a process called **hyperparameter tuning**. (Hint: Grid search, random search, bayesian optimization)\n",
    "\n",
    "- **Cross-validation**\n",
    "\n",
    "Cross-validation is a critical technique in machine learning and data science for evaluating and validating the performance of predictive models. It provides a more **robust** and **reliable** evaluation method compared to a hold-out (single train-test set) validation. Though, it requires more time and computing power because of how cross-validation works. (Hint: k-fold cross-validation, stratified k-fold cross-validation, etc.)"
   ]
  },
  {
   "cell_type": "code",
   "execution_count": 71,
   "metadata": {
    "id": "pg-A54yELfHh"
   },
   "outputs": [],
   "source": [
    "# Type your code here"
   ]
  },
  {
   "cell_type": "markdown",
   "metadata": {
    "id": "Li4l53DjLfHh"
   },
   "source": [
    "## E. Submission\n",
    "To predict the test set target feature and submit the results to the kaggle competition platform, do the following:\n",
    "1. Create a new pipeline instance identical to the first in Data Preprocessing\n",
    "2. With the pipeline, apply `fit_transform` to the original training set before splitting, then only apply `transform` to the test set.\n",
    "3. Retrain the model on the preprocessed training set\n",
    "4. Predict the test set\n",
    "5. Make sure the submission contains the `id` and `attack_cat` column."
   ]
  },
  {
   "cell_type": "code",
   "execution_count": 72,
   "metadata": {
    "id": "LeqnfWc-LfHi"
   },
   "outputs": [],
   "source": [
    "# Type your code here"
   ]
  },
  {
   "cell_type": "markdown",
   "metadata": {
    "id": "R-jXvKOpLfHi"
   },
   "source": [
    "# 6. Error Analysis\n",
    "\n",
    "Based on all the process you have done until the modeling and evaluation step, write an analysis to support each steps you have taken to solve this problem. Write the analysis using the markdown block. Some questions that may help you in writing the analysis:\n",
    "\n",
    "- Does my model perform better in predicting one class than the other? If so, why is that?\n",
    "- To each models I have tried, which performs the best and what could be the reason?\n",
    "- Is it better for me to impute or drop the missing data? Why?\n",
    "- Does feature scaling help improve my model performance?\n",
    "- etc..."
   ]
  },
  {
   "cell_type": "markdown",
   "metadata": {
    "id": "tWL3nEAELfHj"
   },
   "source": [
    "`Provide your analysis here`"
   ]
  },
  {
   "cell_type": "markdown",
   "metadata": {},
   "source": []
  },
  {
   "cell_type": "markdown",
   "metadata": {},
   "source": []
  },
  {
   "cell_type": "markdown",
   "metadata": {},
   "source": []
  },
  {
   "cell_type": "markdown",
   "metadata": {},
   "source": []
  },
  {
   "cell_type": "markdown",
   "metadata": {},
   "source": []
  },
  {
   "cell_type": "markdown",
   "metadata": {},
   "source": []
  },
  {
   "cell_type": "markdown",
   "metadata": {},
   "source": []
  },
  {
   "cell_type": "markdown",
   "metadata": {},
   "source": []
  },
  {
   "cell_type": "markdown",
   "metadata": {},
   "source": []
  },
  {
   "cell_type": "markdown",
   "metadata": {},
   "source": []
  }
 ],
 "metadata": {
  "colab": {
   "include_colab_link": true,
   "provenance": [],
   "toc_visible": true
  },
  "kernelspec": {
   "display_name": "Python 3",
   "language": "python",
   "name": "python3"
  },
  "language_info": {
   "codemirror_mode": {
    "name": "ipython",
    "version": 3
   },
   "file_extension": ".py",
   "mimetype": "text/x-python",
   "name": "python",
   "nbconvert_exporter": "python",
   "pygments_lexer": "ipython3",
   "version": "3.11.3"
  }
 },
 "nbformat": 4,
 "nbformat_minor": 0
}
